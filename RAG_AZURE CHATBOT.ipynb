{
  "nbformat": 4,
  "nbformat_minor": 0,
  "metadata": {
    "colab": {
      "provenance": []
    },
    "kernelspec": {
      "name": "python3",
      "display_name": "Python 3"
    },
    "language_info": {
      "name": "python"
    }
  },
  "cells": [
    {
      "cell_type": "markdown",
      "source": [
        "Create a simple chatbot that answers questions based on your documents using Azure OpenAI and Azure Cognitive Search."
      ],
      "metadata": {
        "id": "BzI8jt587BvA"
      }
    },
    {
      "cell_type": "code",
      "execution_count": null,
      "metadata": {
        "id": "ndpu3kAS4ows"
      },
      "outputs": [],
      "source": [
        "!pip install openai azure-search-documents python-dotenv\n"
      ]
    },
    {
      "cell_type": "code",
      "source": [
        "import os\n",
        "\n",
        "# Azure OpenAI\n",
        "os.environ[\"AZURE_OPENAI_KEY\"] = \"abc123fakeopenaikey987xyz\"\n",
        "os.environ[\"AZURE_OPENAI_ENDPOINT\"] = \"https://my-openai-resource.openai.azure.com/\"\n",
        "os.environ[\"AZURE_OPENAI_DEPLOYMENT\"] = \"gpt-35-turbo\"\n",
        "\n",
        "# Azure Cognitive Search\n",
        "os.environ[\"AZURE_SEARCH_KEY\"] = \"xyz456fakesearchkey123abc\"\n",
        "os.environ[\"AZURE_SEARCH_ENDPOINT\"] = \"https://my-search-resource.search.windows.net\"\n",
        "os.environ[\"AZURE_SEARCH_INDEX\"] = \"my-index\""
      ],
      "metadata": {
        "id": "bJuI70Bo8BH8"
      },
      "execution_count": null,
      "outputs": []
    },
    {
      "cell_type": "code",
      "source": [
        "from azure.search.documents import SearchClient\n",
        "from azure.core.credentials import AzureKeyCredential\n",
        "import openai"
      ],
      "metadata": {
        "id": "ZczSzLFA55xo"
      },
      "execution_count": null,
      "outputs": []
    },
    {
      "cell_type": "code",
      "source": [
        "openai.api_key = os.environ[\"AZURE_OPENAI_KEY\"]\n",
        "openai.api_base = os.environ[\"AZURE_OPENAI_ENDPOINT\"]\n",
        "openai.api_version = \"2023-05-15\"\n",
        "deployment_name = os.environ[\"AZURE_OPENAI_DEPLOYMENT\"]\n"
      ],
      "metadata": {
        "id": "6uNGn4WP55uP"
      },
      "execution_count": null,
      "outputs": []
    },
    {
      "cell_type": "code",
      "source": [
        "search_client = SearchClient(\n",
        "    endpoint=os.environ[\"AZURE_SEARCH_ENDPOINT\"],\n",
        "    index_name=os.environ[\"AZURE_SEARCH_INDEX\"],\n",
        "    credential=AzureKeyCredential(os.environ[\"AZURE_SEARCH_KEY\"])\n",
        ")"
      ],
      "metadata": {
        "id": "FQEY3DDG55ri"
      },
      "execution_count": null,
      "outputs": []
    },
    {
      "cell_type": "code",
      "source": [
        "def ask_rag_question(question):\n",
        "    search_results = search_client.search(question)\n",
        "    docs = [doc['content'] for doc in search_results]\n",
        "    context = \"\\n\".join(docs[:3])\n",
        "\n",
        "\n",
        "    prompt = f\"Use the context below to answer the question:\\n\\n{context}\\n\\nQuestion: {question}\"\n",
        "\n",
        "    response = openai.ChatCompletion.create(\n",
        "        engine=deployment_name,\n",
        "        messages=[{\"role\": \"user\", \"content\": prompt}]\n",
        "    )\n",
        "    return response['choices'][0]['message']['content']"
      ],
      "metadata": {
        "id": "YnGYE6T155o7"
      },
      "execution_count": null,
      "outputs": []
    },
    {
      "cell_type": "code",
      "source": [
        "question = \"What are the company policies on remote work?\"\n",
        "answer = ask_rag_question(question)\n",
        "\n",
        "print(\"📨 Question:\", question)\n",
        "print(\"🤖 Answer:\", answer)\n"
      ],
      "metadata": {
        "id": "ooAlk9VA55mU"
      },
      "execution_count": null,
      "outputs": []
    },
    {
      "cell_type": "code",
      "source": [
        "extended_path = Path(\"/mnt/data/azure_rag_colab_extended.py\")\n",
        "extended_path.write_text(extended_code)\n",
        "\n",
        "# Add to ZIP\n",
        "with zipfile.ZipFile(\"/mnt/data/azure_rag_chatbot_colab.zip\", 'a') as zipf:\n",
        "    zipf.write(extended_path, arcname=\"azure_rag_colab_extended.py\")\n",
        "\n",
        "\"/mnt/data/azure_rag_chatbot_colab.zip\""
      ],
      "metadata": {
        "id": "_ky6amSi9Aff"
      },
      "execution_count": null,
      "outputs": []
    }
  ]
}